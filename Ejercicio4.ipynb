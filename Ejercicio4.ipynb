{
  "nbformat": 4,
  "nbformat_minor": 0,
  "metadata": {
    "colab": {
      "provenance": []
    },
    "kernelspec": {
      "name": "python3",
      "display_name": "Python 3"
    },
    "language_info": {
      "name": "python"
    }
  },
  "cells": [
    {
      "cell_type": "code",
      "execution_count": 7,
      "metadata": {
        "colab": {
          "base_uri": "https://localhost:8080/"
        },
        "id": "mCYjbMXM2y3i",
        "outputId": "a33d790f-71a0-4f6c-ab2d-c8b1e3685b87"
      },
      "outputs": [
        {
          "output_type": "stream",
          "name": "stdout",
          "text": [
            "Error: Could not load the image. Please check the file path.\n"
          ]
        }
      ],
      "source": [
        "import cv2\n",
        "import numpy as np\n",
        "\n",
        "image = cv2.imread('your_image.jpg')\n",
        "\n",
        "if image is None:\n",
        "    print(\"Error: Could not load the image. Please check the file path.\")\n",
        "else:\n",
        "    hsv = cv2.cvtColor(image, cv2.COLOR_BGR2HSV)\n",
        "\n",
        "    lower_red = np.array([0, 120, 70])\n",
        "    upper_red = np.array([10, 255, 255])\n",
        "    mask_red = cv2.inRange(hsv, lower_red, upper_red)\n",
        "\n",
        "    lower_green = np.array([36, 25, 25])\n",
        "    upper_green = np.array([70, 255, 255])\n",
        "    mask_green = cv2.inRange(hsv, lower_green, upper_green)\n",
        "\n",
        "    lower_blue = np.array([94, 80, 2])\n",
        "    upper_blue = np.array([126, 255, 255])\n",
        "    mask_blue = cv2.inRange(hsv, lower_blue, upper_blue)\n",
        "\n",
        "    if np.any(mask_red):\n",
        "        print(\"Red detected\")\n",
        "    if np.any(mask_green):\n",
        "        print(\"Green detected\")\n",
        "    if np.any(mask_blue):\n",
        "        print(\"Blue detected\")\n",
        "\n",
        "    cv2.imshow('Image', image)\n",
        "    cv2.imshow('Red Mask', mask_red)\n",
        "    cv2.imshow('Green Mask', mask_green)\n",
        "    cv2.imshow('Blue Mask', mask_blue)\n",
        "\n",
        "    cv2.waitKey(0)\n",
        "    cv2.destroyAllWindows()\n"
      ]
    }
  ]
}